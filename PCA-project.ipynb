{
 "cells": [
  {
   "cell_type": "code",
   "execution_count": 4,
   "metadata": {
    "collapsed": true
   },
   "outputs": [],
   "source": [
    "import pandas as pd\n",
    "import numpy as np\n",
    "from sklearn.decomposition import PCA\n",
    "from sklearn.preprocessing import StandardScaler"
   ]
  },
  {
   "cell_type": "code",
   "execution_count": 5,
   "metadata": {
    "collapsed": false
   },
   "outputs": [
    {
     "data": {
      "text/html": [
       "<div>\n",
       "<table border=\"1\" class=\"dataframe\">\n",
       "  <thead>\n",
       "    <tr style=\"text-align: right;\">\n",
       "      <th></th>\n",
       "      <th>id</th>\n",
       "      <th>cat1</th>\n",
       "      <th>cat2</th>\n",
       "      <th>cat3</th>\n",
       "      <th>cat4</th>\n",
       "      <th>cat5</th>\n",
       "      <th>cat6</th>\n",
       "      <th>cat7</th>\n",
       "      <th>cat8</th>\n",
       "      <th>cat9</th>\n",
       "      <th>...</th>\n",
       "      <th>cont6</th>\n",
       "      <th>cont7</th>\n",
       "      <th>cont8</th>\n",
       "      <th>cont9</th>\n",
       "      <th>cont10</th>\n",
       "      <th>cont11</th>\n",
       "      <th>cont12</th>\n",
       "      <th>cont13</th>\n",
       "      <th>cont14</th>\n",
       "      <th>loss</th>\n",
       "    </tr>\n",
       "  </thead>\n",
       "  <tbody>\n",
       "    <tr>\n",
       "      <th>0</th>\n",
       "      <td>1</td>\n",
       "      <td>A</td>\n",
       "      <td>B</td>\n",
       "      <td>A</td>\n",
       "      <td>B</td>\n",
       "      <td>A</td>\n",
       "      <td>A</td>\n",
       "      <td>A</td>\n",
       "      <td>A</td>\n",
       "      <td>B</td>\n",
       "      <td>...</td>\n",
       "      <td>0.718367</td>\n",
       "      <td>0.335060</td>\n",
       "      <td>0.30260</td>\n",
       "      <td>0.67135</td>\n",
       "      <td>0.83510</td>\n",
       "      <td>0.569745</td>\n",
       "      <td>0.594646</td>\n",
       "      <td>0.822493</td>\n",
       "      <td>0.714843</td>\n",
       "      <td>2213.18</td>\n",
       "    </tr>\n",
       "    <tr>\n",
       "      <th>1</th>\n",
       "      <td>2</td>\n",
       "      <td>A</td>\n",
       "      <td>B</td>\n",
       "      <td>A</td>\n",
       "      <td>A</td>\n",
       "      <td>A</td>\n",
       "      <td>A</td>\n",
       "      <td>A</td>\n",
       "      <td>A</td>\n",
       "      <td>B</td>\n",
       "      <td>...</td>\n",
       "      <td>0.438917</td>\n",
       "      <td>0.436585</td>\n",
       "      <td>0.60087</td>\n",
       "      <td>0.35127</td>\n",
       "      <td>0.43919</td>\n",
       "      <td>0.338312</td>\n",
       "      <td>0.366307</td>\n",
       "      <td>0.611431</td>\n",
       "      <td>0.304496</td>\n",
       "      <td>1283.60</td>\n",
       "    </tr>\n",
       "    <tr>\n",
       "      <th>2</th>\n",
       "      <td>5</td>\n",
       "      <td>A</td>\n",
       "      <td>B</td>\n",
       "      <td>A</td>\n",
       "      <td>A</td>\n",
       "      <td>B</td>\n",
       "      <td>A</td>\n",
       "      <td>A</td>\n",
       "      <td>A</td>\n",
       "      <td>B</td>\n",
       "      <td>...</td>\n",
       "      <td>0.289648</td>\n",
       "      <td>0.315545</td>\n",
       "      <td>0.27320</td>\n",
       "      <td>0.26076</td>\n",
       "      <td>0.32446</td>\n",
       "      <td>0.381398</td>\n",
       "      <td>0.373424</td>\n",
       "      <td>0.195709</td>\n",
       "      <td>0.774425</td>\n",
       "      <td>3005.09</td>\n",
       "    </tr>\n",
       "    <tr>\n",
       "      <th>3</th>\n",
       "      <td>10</td>\n",
       "      <td>B</td>\n",
       "      <td>B</td>\n",
       "      <td>A</td>\n",
       "      <td>B</td>\n",
       "      <td>A</td>\n",
       "      <td>A</td>\n",
       "      <td>A</td>\n",
       "      <td>A</td>\n",
       "      <td>B</td>\n",
       "      <td>...</td>\n",
       "      <td>0.440945</td>\n",
       "      <td>0.391128</td>\n",
       "      <td>0.31796</td>\n",
       "      <td>0.32128</td>\n",
       "      <td>0.44467</td>\n",
       "      <td>0.327915</td>\n",
       "      <td>0.321570</td>\n",
       "      <td>0.605077</td>\n",
       "      <td>0.602642</td>\n",
       "      <td>939.85</td>\n",
       "    </tr>\n",
       "    <tr>\n",
       "      <th>4</th>\n",
       "      <td>11</td>\n",
       "      <td>A</td>\n",
       "      <td>B</td>\n",
       "      <td>A</td>\n",
       "      <td>B</td>\n",
       "      <td>A</td>\n",
       "      <td>A</td>\n",
       "      <td>A</td>\n",
       "      <td>A</td>\n",
       "      <td>B</td>\n",
       "      <td>...</td>\n",
       "      <td>0.178193</td>\n",
       "      <td>0.247408</td>\n",
       "      <td>0.24564</td>\n",
       "      <td>0.22089</td>\n",
       "      <td>0.21230</td>\n",
       "      <td>0.204687</td>\n",
       "      <td>0.202213</td>\n",
       "      <td>0.246011</td>\n",
       "      <td>0.432606</td>\n",
       "      <td>2763.85</td>\n",
       "    </tr>\n",
       "  </tbody>\n",
       "</table>\n",
       "<p>5 rows × 132 columns</p>\n",
       "</div>"
      ],
      "text/plain": [
       "   id cat1 cat2 cat3 cat4 cat5 cat6 cat7 cat8 cat9   ...        cont6  \\\n",
       "0   1    A    B    A    B    A    A    A    A    B   ...     0.718367   \n",
       "1   2    A    B    A    A    A    A    A    A    B   ...     0.438917   \n",
       "2   5    A    B    A    A    B    A    A    A    B   ...     0.289648   \n",
       "3  10    B    B    A    B    A    A    A    A    B   ...     0.440945   \n",
       "4  11    A    B    A    B    A    A    A    A    B   ...     0.178193   \n",
       "\n",
       "      cont7    cont8    cont9   cont10    cont11    cont12    cont13  \\\n",
       "0  0.335060  0.30260  0.67135  0.83510  0.569745  0.594646  0.822493   \n",
       "1  0.436585  0.60087  0.35127  0.43919  0.338312  0.366307  0.611431   \n",
       "2  0.315545  0.27320  0.26076  0.32446  0.381398  0.373424  0.195709   \n",
       "3  0.391128  0.31796  0.32128  0.44467  0.327915  0.321570  0.605077   \n",
       "4  0.247408  0.24564  0.22089  0.21230  0.204687  0.202213  0.246011   \n",
       "\n",
       "     cont14     loss  \n",
       "0  0.714843  2213.18  \n",
       "1  0.304496  1283.60  \n",
       "2  0.774425  3005.09  \n",
       "3  0.602642   939.85  \n",
       "4  0.432606  2763.85  \n",
       "\n",
       "[5 rows x 132 columns]"
      ]
     },
     "execution_count": 5,
     "metadata": {},
     "output_type": "execute_result"
    }
   ],
   "source": [
    "train = pd.read_csv(\"C:/Users/amyhu/Google Drive/652/project/train.csv/train.csv\")\n",
    "train.head()"
   ]
  },
  {
   "cell_type": "code",
   "execution_count": 6,
   "metadata": {
    "collapsed": false
   },
   "outputs": [],
   "source": [
    "#ignore this part\n",
    "#col = (i for i in train.columns if i == 'cat')\n",
    "#train2 = train.drop(train.columns[col],axis=1)"
   ]
  },
  {
   "cell_type": "code",
   "execution_count": 7,
   "metadata": {
    "collapsed": false
   },
   "outputs": [
    {
     "data": {
      "text/html": [
       "<div>\n",
       "<table border=\"1\" class=\"dataframe\">\n",
       "  <thead>\n",
       "    <tr style=\"text-align: right;\">\n",
       "      <th></th>\n",
       "      <th>cont1</th>\n",
       "      <th>cont2</th>\n",
       "      <th>cont3</th>\n",
       "      <th>cont4</th>\n",
       "      <th>cont5</th>\n",
       "      <th>cont6</th>\n",
       "      <th>cont7</th>\n",
       "      <th>cont8</th>\n",
       "      <th>cont9</th>\n",
       "      <th>cont10</th>\n",
       "      <th>cont11</th>\n",
       "      <th>cont12</th>\n",
       "      <th>cont13</th>\n",
       "      <th>cont14</th>\n",
       "    </tr>\n",
       "  </thead>\n",
       "  <tbody>\n",
       "    <tr>\n",
       "      <th>0</th>\n",
       "      <td>0.726300</td>\n",
       "      <td>0.245921</td>\n",
       "      <td>0.187583</td>\n",
       "      <td>0.789639</td>\n",
       "      <td>0.310061</td>\n",
       "      <td>0.718367</td>\n",
       "      <td>0.335060</td>\n",
       "      <td>0.30260</td>\n",
       "      <td>0.67135</td>\n",
       "      <td>0.83510</td>\n",
       "      <td>0.569745</td>\n",
       "      <td>0.594646</td>\n",
       "      <td>0.822493</td>\n",
       "      <td>0.714843</td>\n",
       "    </tr>\n",
       "    <tr>\n",
       "      <th>1</th>\n",
       "      <td>0.330514</td>\n",
       "      <td>0.737068</td>\n",
       "      <td>0.592681</td>\n",
       "      <td>0.614134</td>\n",
       "      <td>0.885834</td>\n",
       "      <td>0.438917</td>\n",
       "      <td>0.436585</td>\n",
       "      <td>0.60087</td>\n",
       "      <td>0.35127</td>\n",
       "      <td>0.43919</td>\n",
       "      <td>0.338312</td>\n",
       "      <td>0.366307</td>\n",
       "      <td>0.611431</td>\n",
       "      <td>0.304496</td>\n",
       "    </tr>\n",
       "    <tr>\n",
       "      <th>2</th>\n",
       "      <td>0.261841</td>\n",
       "      <td>0.358319</td>\n",
       "      <td>0.484196</td>\n",
       "      <td>0.236924</td>\n",
       "      <td>0.397069</td>\n",
       "      <td>0.289648</td>\n",
       "      <td>0.315545</td>\n",
       "      <td>0.27320</td>\n",
       "      <td>0.26076</td>\n",
       "      <td>0.32446</td>\n",
       "      <td>0.381398</td>\n",
       "      <td>0.373424</td>\n",
       "      <td>0.195709</td>\n",
       "      <td>0.774425</td>\n",
       "    </tr>\n",
       "    <tr>\n",
       "      <th>3</th>\n",
       "      <td>0.321594</td>\n",
       "      <td>0.555782</td>\n",
       "      <td>0.527991</td>\n",
       "      <td>0.373816</td>\n",
       "      <td>0.422268</td>\n",
       "      <td>0.440945</td>\n",
       "      <td>0.391128</td>\n",
       "      <td>0.31796</td>\n",
       "      <td>0.32128</td>\n",
       "      <td>0.44467</td>\n",
       "      <td>0.327915</td>\n",
       "      <td>0.321570</td>\n",
       "      <td>0.605077</td>\n",
       "      <td>0.602642</td>\n",
       "    </tr>\n",
       "    <tr>\n",
       "      <th>4</th>\n",
       "      <td>0.273204</td>\n",
       "      <td>0.159990</td>\n",
       "      <td>0.527991</td>\n",
       "      <td>0.473202</td>\n",
       "      <td>0.704268</td>\n",
       "      <td>0.178193</td>\n",
       "      <td>0.247408</td>\n",
       "      <td>0.24564</td>\n",
       "      <td>0.22089</td>\n",
       "      <td>0.21230</td>\n",
       "      <td>0.204687</td>\n",
       "      <td>0.202213</td>\n",
       "      <td>0.246011</td>\n",
       "      <td>0.432606</td>\n",
       "    </tr>\n",
       "  </tbody>\n",
       "</table>\n",
       "</div>"
      ],
      "text/plain": [
       "      cont1     cont2     cont3     cont4     cont5     cont6     cont7  \\\n",
       "0  0.726300  0.245921  0.187583  0.789639  0.310061  0.718367  0.335060   \n",
       "1  0.330514  0.737068  0.592681  0.614134  0.885834  0.438917  0.436585   \n",
       "2  0.261841  0.358319  0.484196  0.236924  0.397069  0.289648  0.315545   \n",
       "3  0.321594  0.555782  0.527991  0.373816  0.422268  0.440945  0.391128   \n",
       "4  0.273204  0.159990  0.527991  0.473202  0.704268  0.178193  0.247408   \n",
       "\n",
       "     cont8    cont9   cont10    cont11    cont12    cont13    cont14  \n",
       "0  0.30260  0.67135  0.83510  0.569745  0.594646  0.822493  0.714843  \n",
       "1  0.60087  0.35127  0.43919  0.338312  0.366307  0.611431  0.304496  \n",
       "2  0.27320  0.26076  0.32446  0.381398  0.373424  0.195709  0.774425  \n",
       "3  0.31796  0.32128  0.44467  0.327915  0.321570  0.605077  0.602642  \n",
       "4  0.24564  0.22089  0.21230  0.204687  0.202213  0.246011  0.432606  "
      ]
     },
     "execution_count": 7,
     "metadata": {},
     "output_type": "execute_result"
    }
   ],
   "source": [
    "col = train.columns\n",
    "train_new = train[col[col.str.contains('cont')]]\n",
    "train_new.head()"
   ]
  },
  {
   "cell_type": "code",
   "execution_count": 29,
   "metadata": {
    "collapsed": false
   },
   "outputs": [
    {
     "name": "stdout",
     "output_type": "stream",
     "text": [
      "variance explained =  0.950023351803\n"
     ]
    }
   ],
   "source": [
    "#ignore this part, because i just use this to test the results of two cpa methord\n",
    "#The results are same\n",
    "train_new = StandardScaler(with_std=False).fit_transform(train_new)\n",
    "\n",
    "pca = PCA(n_components=8) \n",
    "pca.fit(train_new)\n",
    "train_new_8_pca = pca.fit_transform(train_new_8)\n",
    "print(\"variance explained = \",pca.explained_variance_ratio_.sum())"
   ]
  },
  {
   "cell_type": "code",
   "execution_count": 31,
   "metadata": {
    "collapsed": false
   },
   "outputs": [
    {
     "name": "stdout",
     "output_type": "stream",
     "text": [
      "total sum var =  0.57122849929\n",
      "first 7 eigenv account for  0.923341029851\n",
      "project data to 7D: [[-0.5453341  -0.41950063 -0.31009383 ..., -0.08105197 -0.00912425\n",
      "   0.21768608]\n",
      " [ 0.21099808 -0.08797761  0.4860134  ..., -0.103702   -0.15032761\n",
      "  -0.1768133 ]\n",
      " [ 0.57464084  0.07491181 -0.30007219 ..., -0.03151366  0.04513259\n",
      "   0.00397872]\n",
      " ..., \n",
      " [ 0.32336263  0.3743968   0.07708291 ..., -0.12189188 -0.1469702\n",
      "   0.24739717]\n",
      " [-0.40446502  0.20350993 -0.30917276 ..., -0.04285832  0.00746007\n",
      "  -0.07946873]\n",
      " [-1.15500078 -0.08934723  0.17329311 ...,  0.28246377  0.06033472\n",
      "   0.08368174]]\n"
     ]
    }
   ],
   "source": [
    "X = train_new\n",
    "XTX = np.dot(X.T, X)\n",
    "(sigma, U) = np.linalg.eig(XTX)\n",
    "idx = sigma.argsort()[::-1]   \n",
    "sigma = sigma[idx] # we sort so that largest eigens come first\n",
    "U = U[:,idx]\n",
    "print(\"total sum var = \", sigma.sum()/(X.shape[0]-1))\n",
    "print(\"first 7 eigenv account for \", sigma[0:7].sum()/sigma.sum());\n",
    "P = U[:, :7];\n",
    "pca_manual = np.dot(X, P); \n",
    "print(\"project data to 7D:\", pca_manual)"
   ]
  },
  {
   "cell_type": "code",
   "execution_count": 30,
   "metadata": {
    "collapsed": false
   },
   "outputs": [
    {
     "name": "stdout",
     "output_type": "stream",
     "text": [
      "total sum var =  0.57122849929\n",
      "first 8 eigenv account for  0.950023351803\n",
      "project data to 8D: [[-0.5453341  -0.41950063 -0.31009383 ..., -0.00912425  0.21768608\n",
      "   0.20762245]\n",
      " [ 0.21099808 -0.08797761  0.4860134  ..., -0.15032761 -0.1768133\n",
      "   0.10468024]\n",
      " [ 0.57464084  0.07491181 -0.30007219 ...,  0.04513259  0.00397872\n",
      "   0.02651366]\n",
      " ..., \n",
      " [ 0.32336263  0.3743968   0.07708291 ..., -0.1469702   0.24739717\n",
      "  -0.141398  ]\n",
      " [-0.40446502  0.20350993 -0.30917276 ...,  0.00746007 -0.07946873\n",
      "   0.2765261 ]\n",
      " [-1.15500078 -0.08934723  0.17329311 ...,  0.06033472  0.08368174\n",
      "  -0.16304816]]\n"
     ]
    }
   ],
   "source": [
    "X = train_new\n",
    "XTX = np.dot(X.T, X)\n",
    "(sigma, U) = np.linalg.eig(XTX)\n",
    "idx = sigma.argsort()[::-1]   \n",
    "sigma = sigma[idx] # we sort so that largest eigens come first\n",
    "U = U[:,idx]\n",
    "print(\"total sum var = \", sigma.sum()/(X.shape[0]-1))\n",
    "print(\"first 8 eigenv account for \", sigma[0:8].sum()/sigma.sum());\n",
    "P = U[:, :8];\n",
    "pca_manual = np.dot(X, P); \n",
    "print(\"project data to 8D:\", pca_manual)"
   ]
  },
  {
   "cell_type": "code",
   "execution_count": 32,
   "metadata": {
    "collapsed": false
   },
   "outputs": [
    {
     "name": "stdout",
     "output_type": "stream",
     "text": [
      "total sum var =  0.57122849929\n",
      "first 9 eigenv account for  0.969793099179\n",
      "project data to 9D: [[-0.5453341  -0.41950063 -0.31009383 ...,  0.21768608  0.20762245\n",
      "  -0.282958  ]\n",
      " [ 0.21099808 -0.08797761  0.4860134  ..., -0.1768133   0.10468024\n",
      "   0.02832843]\n",
      " [ 0.57464084  0.07491181 -0.30007219 ...,  0.00397872  0.02651366\n",
      "  -0.01077799]\n",
      " ..., \n",
      " [ 0.32336263  0.3743968   0.07708291 ...,  0.24739717 -0.141398   -0.0754568 ]\n",
      " [-0.40446502  0.20350993 -0.30917276 ..., -0.07946873  0.2765261\n",
      "  -0.05596206]\n",
      " [-1.15500078 -0.08934723  0.17329311 ...,  0.08368174 -0.16304816\n",
      "  -0.12869537]]\n"
     ]
    }
   ],
   "source": [
    "X = train_new\n",
    "XTX = np.dot(X.T, X)\n",
    "(sigma, U) = np.linalg.eig(XTX)\n",
    "idx = sigma.argsort()[::-1]   \n",
    "sigma = sigma[idx] # we sort so that largest eigens come first\n",
    "U = U[:,idx]\n",
    "print(\"total sum var = \", sigma.sum()/(X.shape[0]-1))\n",
    "print(\"first 9 eigenv account for \", sigma[0:9].sum()/sigma.sum());\n",
    "P = U[:, :9];\n",
    "pca_manual = np.dot(X, P); \n",
    "print(\"project data to 9D:\", pca_manual)"
   ]
  },
  {
   "cell_type": "code",
   "execution_count": 33,
   "metadata": {
    "collapsed": false
   },
   "outputs": [
    {
     "name": "stdout",
     "output_type": "stream",
     "text": [
      "total sum var =  0.57122849929\n",
      "first 10 eigenv account for  0.985837414247\n",
      "project data to 10D: [[-0.5453341  -0.41950063 -0.31009383 ...,  0.20762245 -0.282958\n",
      "  -0.05154964]\n",
      " [ 0.21099808 -0.08797761  0.4860134  ...,  0.10468024  0.02832843\n",
      "  -0.0718458 ]\n",
      " [ 0.57464084  0.07491181 -0.30007219 ...,  0.02651366 -0.01077799\n",
      "   0.1354695 ]\n",
      " ..., \n",
      " [ 0.32336263  0.3743968   0.07708291 ..., -0.141398   -0.0754568\n",
      "   0.0330009 ]\n",
      " [-0.40446502  0.20350993 -0.30917276 ...,  0.2765261  -0.05596206\n",
      "   0.26829548]\n",
      " [-1.15500078 -0.08934723  0.17329311 ..., -0.16304816 -0.12869537\n",
      "   0.11575347]]\n"
     ]
    }
   ],
   "source": [
    "X = train_new\n",
    "XTX = np.dot(X.T, X)\n",
    "(sigma, U) = np.linalg.eig(XTX)\n",
    "idx = sigma.argsort()[::-1]   \n",
    "sigma = sigma[idx] # we sort so that largest eigens come first\n",
    "U = U[:,idx]\n",
    "print(\"total sum var = \", sigma.sum()/(X.shape[0]-1))\n",
    "print(\"first 10 eigenv account for \", sigma[0:10].sum()/sigma.sum());\n",
    "P = U[:, :10];\n",
    "pca_manual = np.dot(X, P); \n",
    "print(\"project data to 10D:\", pca_manual)"
   ]
  },
  {
   "cell_type": "code",
   "execution_count": null,
   "metadata": {
    "collapsed": true
   },
   "outputs": [],
   "source": []
  }
 ],
 "metadata": {
  "anaconda-cloud": {},
  "kernelspec": {
   "display_name": "Python [Root]",
   "language": "python",
   "name": "Python [Root]"
  },
  "language_info": {
   "codemirror_mode": {
    "name": "ipython",
    "version": 3
   },
   "file_extension": ".py",
   "mimetype": "text/x-python",
   "name": "python",
   "nbconvert_exporter": "python",
   "pygments_lexer": "ipython3",
   "version": "3.5.2"
  }
 },
 "nbformat": 4,
 "nbformat_minor": 0
}
