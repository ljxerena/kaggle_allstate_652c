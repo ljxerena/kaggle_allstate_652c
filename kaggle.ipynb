{
 "cells": [
  {
   "cell_type": "markdown",
   "metadata": {},
   "source": [
    "### NOTICE:\n",
    "1. remember that this is only a sample copied form kaggle kernal, [the original scripit is here](https://www.kaggle.com/guyko81/allstate-claims-severity/just-an-easy-solution/comments)\n",
    "2. having problem with install xgboost packages? [link](https://github.com/dmlc/xgboost/tree/master/python-package)\n"
   ]
  },
  {
   "cell_type": "code",
   "execution_count": 1,
   "metadata": {
    "collapsed": false
   },
   "outputs": [],
   "source": [
    "import xgboost as xgb\n",
    "from scipy.stats import norm, lognorm, probplot\n",
    "import matplotlib.mlab as mlab\n",
    "%matplotlib inline"
   ]
  },
  {
   "cell_type": "code",
   "execution_count": 2,
   "metadata": {
    "collapsed": false
   },
   "outputs": [
    {
     "name": "stdout",
     "output_type": "stream",
     "text": [
      "train size is (188318, 132), test size is (125546, 131)\n"
     ]
    }
   ],
   "source": [
    "train = pd.read_csv(\"train.csv\")\n",
    "test = pd.read_csv(\"test.csv\")\n",
    "\n",
    "features = [x for x in train.columns if x not in ['id','loss']]\n",
    "cat_features = [x for x in train.select_dtypes(include=['object']).columns if x not in ['id','loss']]\n",
    "num_features = [x for x in train.select_dtypes(exclude=['object']).columns if x not in ['id','loss']]\n",
    "\n",
    "print('train size is {}, test size is {}'.format(train.shape,test.shape) )"
   ]
  },
  {
   "cell_type": "markdown",
   "metadata": {
    "collapsed": true
   },
   "source": [
    "if the loss follows a log-normal distribution"
   ]
  },
  {
   "cell_type": "code",
   "execution_count": 3,
   "metadata": {
    "collapsed": false
   },
   "outputs": [
    {
     "data": {
      "image/png": "[encoded data removed]",
      "text/plain": [
       "<matplotlib.figure.Figure at 0x11abdac88>"
      ]
     },
     "metadata": {},
     "output_type": "display_data"
    }
   ],
   "source": [
    "train['log_loss'] = np.log(train['loss']) # https://www.zhihu.com/question/22012482\n",
    "f,(fig1,fig2) = plt.subplots(1,2,figsize = (10,3))\n",
    "fig1.hist(np.log(train['loss']),bins=100,normed = 1)\n",
    "fig1.set_xlabel('log(loss)')\n",
    "fig1.set_ylabel('probability')\n",
    "(mu , sigma) = norm.fit(train['log_loss'])\n",
    "fig1.set_title(r'$\\mathrm{histogram\\ of\\ log(loss):}\\ \\mu=%.3f,\\ \\sigma=%.3f$' %(mu, sigma))\n",
    "\n",
    "probplot(np.log(train['loss']),plot=fig2)\n",
    "\n",
    "plt.show()"
   ]
  },
  {
   "cell_type": "markdown",
   "metadata": {},
   "source": [
    "- now, to prepare for xgboost, we turn category data from both train&test  into numeric 0,1,2,3..."
   ]
  },
  {
   "cell_type": "code",
   "execution_count": 4,
   "metadata": {
    "collapsed": false
   },
   "outputs": [],
   "source": [
    "nrow_train = train.shape[0]\n",
    "\n",
    "train_test = pd.concat((train[features],test[features]),axis=0).reset_index(drop=1)\n",
    "\n",
    "for i in range(len(cat_features)):\n",
    "    train_test[cat_features[i]] = train_test[cat_features[i]].astype('category').cat.codes\n",
    "\n",
    "train_x = train_test.iloc[:nrow_train,:]\n",
    "test_x = train_test.iloc[nrow_train:,:]"
   ]
  },
  {
   "cell_type": "markdown",
   "metadata": {},
   "source": [
    "- build up the xgboost model"
   ]
  },
  {
   "cell_type": "code",
   "execution_count": 5,
   "metadata": {
    "collapsed": false
   },
   "outputs": [],
   "source": [
    "xgbmat = xgb.DMatrix(train_x,train['log_loss'])\n",
    "\n",
    "params = {'eta': 0.01, 'seed':0, 'subsample': 0.5, 'colsample_bytree': 0.5, \n",
    "             'objective': 'reg:linear', 'max_depth':6, 'min_child_weight':3}\n",
    "\n",
    "num_rounds = 1000\n",
    "\n",
    "bst = xgb.train(params,xgbmat,num_rounds)\n",
    "pred = bst.predict(xgb.DMatrix(test_x))"
   ]
  },
  {
   "cell_type": "code",
   "execution_count": 6,
   "metadata": {
    "collapsed": false
   },
   "outputs": [],
   "source": [
    "loss = pd.DataFrame(np.e**pred)\n",
    "id = test['id']\n",
    "rslt = pd.DataFrame({'id':test['id'],'loss':np.e**pred})"
   ]
  },
  {
   "cell_type": "code",
   "execution_count": 7,
   "metadata": {
    "collapsed": true
   },
   "outputs": [],
   "source": [
    "rslt.to_csv('result1.csv')"
   ]
  },
  {
   "cell_type": "code",
   "execution_count": null,
   "metadata": {
    "collapsed": true
   },
   "outputs": [],
   "source": []
  }
 ],
 "metadata": {
  "kernelspec": {
   "display_name": "Python [Root]",
   "language": "python",
   "name": "Python [Root]"
  },
  "language_info": {
   "codemirror_mode": {
    "name": "ipython",
    "version": 3
   },
   "file_extension": ".py",
   "mimetype": "text/x-python",
   "name": "python",
   "nbconvert_exporter": "python",
   "pygments_lexer": "ipython3",
   "version": "3.5.2"
  }
 },
 "nbformat": 4,
 "nbformat_minor": 0
}
